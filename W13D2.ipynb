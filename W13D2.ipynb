{
 "cells": [
  {
   "cell_type": "code",
   "execution_count": 62,
   "id": "c3f86c2c-4b0e-40a4-8c95-5051f527bfc7",
   "metadata": {},
   "outputs": [],
   "source": [
    "studenti= 25"
   ]
  },
  {
   "cell_type": "code",
   "execution_count": 64,
   "id": "8cee3633-96b4-461c-9b3e-fcb9db88b7c7",
   "metadata": {},
   "outputs": [
    {
     "name": "stdout",
     "output_type": "stream",
     "text": [
      "25\n"
     ]
    }
   ],
   "source": [
    "print (studenti)"
   ]
  },
  {
   "cell_type": "code",
   "execution_count": 54,
   "id": "0ca6d346-8078-4d31-af3e-3186a650ffac",
   "metadata": {},
   "outputs": [],
   "source": [
    "nuovi_studenti=3"
   ]
  },
  {
   "cell_type": "code",
   "execution_count": 66,
   "id": "32a1e74b-28b0-448f-807f-493702bc7390",
   "metadata": {},
   "outputs": [
    {
     "name": "stdout",
     "output_type": "stream",
     "text": [
      "28\n"
     ]
    }
   ],
   "source": [
    "Classe_Intera=studenti+nuovi_studenti\n",
    "print (Classe_Intera)"
   ]
  },
  {
   "cell_type": "code",
   "execution_count": 21,
   "id": "81dfed11-d48f-4ffb-918f-5e5f982afccc",
   "metadata": {},
   "outputs": [
    {
     "name": "stdout",
     "output_type": "stream",
     "text": [
      "EPICODE\n"
     ]
    }
   ],
   "source": [
    "corso='EPICODE'\n",
    "print(corso)"
   ]
  },
  {
   "cell_type": "code",
   "execution_count": 25,
   "id": "7ddeb09d-3e98-451b-8a51-ebe20381c97b",
   "metadata": {},
   "outputs": [
    {
     "name": "stdout",
     "output_type": "stream",
     "text": [
      "36\n"
     ]
    }
   ],
   "source": [
    "x=10\n",
    "x+=2\n",
    "x*=3\n",
    "print(x)"
   ]
  },
  {
   "cell_type": "code",
   "execution_count": 27,
   "id": "1c8aa635-0aeb-4201-b999-d8d6eb096956",
   "metadata": {},
   "outputs": [
    {
     "name": "stdout",
     "output_type": "stream",
     "text": [
      "36\n"
     ]
    }
   ],
   "source": [
    "x=10\n",
    "x=x+2\n",
    "x=x*3\n",
    "print(x)"
   ]
  },
  {
   "cell_type": "code",
   "execution_count": 22,
   "id": "4c074997-a685-4d1d-8cdf-9c3de6d13159",
   "metadata": {},
   "outputs": [
    {
     "data": {
      "text/plain": [
       "7"
      ]
     },
     "execution_count": 22,
     "metadata": {},
     "output_type": "execute_result"
    }
   ],
   "source": [
    "str1 = \"Windows\"\n",
    "len(str1)"
   ]
  },
  {
   "cell_type": "code",
   "execution_count": 24,
   "id": "6ca257f0-3b79-45ab-b528-130582be8be7",
   "metadata": {},
   "outputs": [
    {
     "data": {
      "text/plain": [
       "5"
      ]
     },
     "execution_count": 24,
     "metadata": {},
     "output_type": "execute_result"
    }
   ],
   "source": [
    "str2 = \"Excel\"\n",
    "len(str2)"
   ]
  },
  {
   "cell_type": "code",
   "execution_count": 26,
   "id": "2f3c941d-7206-4214-a7d0-7b4c1e6a1972",
   "metadata": {},
   "outputs": [
    {
     "data": {
      "text/plain": [
       "10"
      ]
     },
     "execution_count": 26,
     "metadata": {},
     "output_type": "execute_result"
    }
   ],
   "source": [
    "str3 = \"Powerpoint\"\n",
    "len(str3)"
   ]
  },
  {
   "cell_type": "code",
   "execution_count": 28,
   "id": "e3525f76-6ec4-40dc-ac3f-af33f8a77cf0",
   "metadata": {},
   "outputs": [
    {
     "data": {
      "text/plain": [
       "4"
      ]
     },
     "execution_count": 28,
     "metadata": {},
     "output_type": "execute_result"
    }
   ],
   "source": [
    "str4 = \"Word\"\n",
    "len(str4)"
   ]
  },
  {
   "cell_type": "code",
   "execution_count": 78,
   "id": "5c3f9b40-f9b8-4825-b605-d7378b57854d",
   "metadata": {},
   "outputs": [
    {
     "name": "stdout",
     "output_type": "stream",
     "text": [
      "31536000\n"
     ]
    }
   ],
   "source": [
    "anno = 365\n",
    "anno=anno*24*60*60\n",
    "print(anno)"
   ]
  },
  {
   "cell_type": "code",
   "execution_count": 80,
   "id": "1dfee276-eed1-493b-9122-66d51cdef9c6",
   "metadata": {},
   "outputs": [
    {
     "name": "stdout",
     "output_type": "stream",
     "text": [
      "31536000\n"
     ]
    }
   ],
   "source": [
    "giorni_anno = 365\n",
    "ore_giorno = 24\n",
    "minuti_ora = 60\n",
    "secondi_minuto = 60\n",
    "\n",
    "ore_anno = ore_giorno * giorni_anno\n",
    "minuti_anno = minuti_ora * ore_anno\n",
    "secondi_anno = secondi_minuto * minuti_anno\n",
    "print(secondi_anno)"
   ]
  },
  {
   "cell_type": "code",
   "execution_count": 74,
   "id": "fcbf4db0-75af-411e-8b08-59894559b590",
   "metadata": {},
   "outputs": [
    {
     "data": {
      "text/plain": [
       "'I AM STUDYING PYTHON'"
      ]
     },
     "execution_count": 74,
     "metadata": {},
     "output_type": "execute_result"
    }
   ],
   "source": [
    "my_string = \"I am studying Python\"\n",
    "my_string.upper()"
   ]
  },
  {
   "cell_type": "code",
   "execution_count": 70,
   "id": "198914e0-6813-4bbe-b18a-0e62305f930a",
   "metadata": {},
   "outputs": [
    {
     "data": {
      "text/plain": [
       "'i am studying python'"
      ]
     },
     "execution_count": 70,
     "metadata": {},
     "output_type": "execute_result"
    }
   ],
   "source": [
    "my_string = \"I am studying Python\"\n",
    "my_string.lower()"
   ]
  },
  {
   "cell_type": "code",
   "execution_count": 72,
   "id": "abd7c458-4d98-45e9-a9cc-928bff9d94fc",
   "metadata": {},
   "outputs": [
    {
     "data": {
      "text/plain": [
       "'I am studying a lot'"
      ]
     },
     "execution_count": 72,
     "metadata": {},
     "output_type": "execute_result"
    }
   ],
   "source": [
    "my_string = \"I am studying Python\"\n",
    "my_string.replace('Python', 'a lot')"
   ]
  },
  {
   "cell_type": "code",
   "execution_count": 76,
   "id": "a0e746e1-193e-4550-b481-65513156055d",
   "metadata": {},
   "outputs": [
    {
     "data": {
      "text/plain": [
       "'I am studying Python'"
      ]
     },
     "execution_count": 76,
     "metadata": {},
     "output_type": "execute_result"
    }
   ],
   "source": [
    "my_string = \"I am studying Python\"\n",
    "my_string.strip()"
   ]
  }
 ],
 "metadata": {
  "kernelspec": {
   "display_name": "Python 3 (ipykernel)",
   "language": "python",
   "name": "python3"
  },
  "language_info": {
   "codemirror_mode": {
    "name": "ipython",
    "version": 3
   },
   "file_extension": ".py",
   "mimetype": "text/x-python",
   "name": "python",
   "nbconvert_exporter": "python",
   "pygments_lexer": "ipython3",
   "version": "3.11.7"
  }
 },
 "nbformat": 4,
 "nbformat_minor": 5
}
