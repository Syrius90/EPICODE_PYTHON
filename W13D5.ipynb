{
 "cells": [
  {
   "cell_type": "code",
   "execution_count": 2,
   "id": "5ad7c13a-06c2-4a9a-87a6-649409a83c97",
   "metadata": {},
   "outputs": [],
   "source": [
    "nome_scuola='Epicode'"
   ]
  },
  {
   "cell_type": "code",
   "execution_count": 6,
   "id": "20a76de8-5d52-47f0-ae28-f30ad612c05e",
   "metadata": {},
   "outputs": [
    {
     "name": "stdout",
     "output_type": "stream",
     "text": [
      "7\n"
     ]
    }
   ],
   "source": [
    "lunghezza=len(nome_scuola)\n",
    "print(lunghezza)"
   ]
  },
  {
   "cell_type": "code",
   "execution_count": 10,
   "id": "e9257690-7c45-4443-b572-1b0ae1ecfd79",
   "metadata": {},
   "outputs": [
    {
     "name": "stdout",
     "output_type": "stream",
     "text": [
      "E\n",
      "p\n",
      "i\n",
      "c\n",
      "o\n",
      "d\n",
      "e\n"
     ]
    }
   ],
   "source": [
    "i=0\n",
    "while i<7:\n",
    "    print(nome_scuola[i])\n",
    "    i+=1"
   ]
  },
  {
   "cell_type": "code",
   "execution_count": 12,
   "id": "9024e07d-519a-4eb1-9cbf-d9b9834a05bd",
   "metadata": {},
   "outputs": [
    {
     "name": "stdout",
     "output_type": "stream",
     "text": [
      "0\n",
      "1\n",
      "2\n",
      "3\n",
      "4\n",
      "5\n",
      "6\n",
      "7\n",
      "8\n",
      "9\n",
      "10\n",
      "11\n",
      "12\n",
      "13\n",
      "14\n",
      "15\n",
      "16\n",
      "17\n",
      "18\n",
      "19\n",
      "20\n"
     ]
    }
   ],
   "source": [
    "i=0\n",
    "while i<=20:\n",
    "    print(i)\n",
    "    i+=1"
   ]
  },
  {
   "cell_type": "code",
   "execution_count": 18,
   "id": "f05fa395-098d-4cf7-a51b-24e0aa69b0ce",
   "metadata": {},
   "outputs": [
    {
     "name": "stdout",
     "output_type": "stream",
     "text": [
      "1\n",
      "2\n",
      "4\n",
      "8\n",
      "16\n",
      "32\n",
      "64\n",
      "128\n",
      "256\n",
      "512\n",
      "1024\n"
     ]
    }
   ],
   "source": [
    "n=2\n",
    "i=0\n",
    "while i<=10:\n",
    "    print(n**i)\n",
    "    i+=1"
   ]
  },
  {
   "cell_type": "code",
   "execution_count": 32,
   "id": "365e23ff-e182-427f-8162-824c622fe525",
   "metadata": {},
   "outputs": [
    {
     "name": "stdin",
     "output_type": "stream",
     "text": [
      "inserire base 2\n",
      "inserire potenza 10\n"
     ]
    },
    {
     "name": "stdout",
     "output_type": "stream",
     "text": [
      "1\n",
      "2\n",
      "4\n",
      "8\n",
      "16\n",
      "32\n",
      "64\n",
      "128\n",
      "256\n",
      "512\n",
      "1024\n"
     ]
    }
   ],
   "source": [
    "base=int(input('inserire base'))\n",
    "potenza=int(input('inserire potenza'))\n",
    "i=0\n",
    "while i<=potenza:\n",
    "    print(base**i)\n",
    "    i+=1"
   ]
  },
  {
   "cell_type": "code",
   "execution_count": 6,
   "id": "97cda0d6-43a0-47f9-9399-c03ab754919f",
   "metadata": {},
   "outputs": [
    {
     "name": "stdout",
     "output_type": "stream",
     "text": [
      "Esponente: 0 Risultato: 1\n",
      "Esponente: 1 Risultato: 2\n",
      "Esponente: 2 Risultato: 4\n",
      "Esponente: 3 Risultato: 8\n",
      "Esponente: 4 Risultato: 16\n",
      "Esponente: 5 Risultato: 32\n",
      "Esponente: 6 Risultato: 64\n",
      "Esponente: 7 Risultato: 128\n",
      "Esponente: 8 Risultato: 256\n",
      "Esponente: 9 Risultato: 512\n",
      "Esponente: 10 Risultato: 1024\n",
      "Esponente: 11 Risultato: 2048\n",
      "Esponente: 12 Risultato: 4096\n",
      "Esponente: 13 Risultato: 8192\n",
      "Esponente: 14 Risultato: 16384\n",
      "Finito\n"
     ]
    }
   ],
   "source": [
    "base=2\n",
    "esponente=0\n",
    "risultato=base**esponente\n",
    "while risultato<25000:\n",
    "    print('Esponente:',esponente,'Risultato:',risultato)\n",
    "    esponente+=1\n",
    "    risultato=base**esponente\n",
    "\n",
    "print('Finito')"
   ]
  },
  {
   "cell_type": "code",
   "execution_count": 22,
   "id": "6b0aadbb-db98-4e7a-b89f-bdbc911dfa82",
   "metadata": {},
   "outputs": [
    {
     "name": "stdin",
     "output_type": "stream",
     "text": [
      "inserire numero 150\n"
     ]
    },
    {
     "name": "stdout",
     "output_type": "stream",
     "text": [
      "risultato di 150 / 1 = 150.0\n",
      "risultato di 150 / 2 = 75.0\n",
      "risultato di 150 / 3 = 50.0\n",
      "risultato di 150 / 5 = 30.0\n",
      "risultato di 150 / 6 = 25.0\n",
      "risultato di 150 / 10 = 15.0\n",
      "risultato di 150 / 15 = 10.0\n",
      "risultato di 150 / 25 = 6.0\n",
      "risultato di 150 / 30 = 5.0\n",
      "risultato di 150 / 50 = 3.0\n",
      "risultato di 150 / 75 = 2.0\n",
      "risultato di 150 / 150 = 1.0\n",
      "[1, 2, 3, 5, 6, 10, 15, 25, 30, 50, 75, 150]\n"
     ]
    }
   ],
   "source": [
    "#init\n",
    "numero=int(input('inserire numero'))\n",
    "divisore=1\n",
    "fattori=[]\n",
    "\n",
    "while divisore<=numero:\n",
    "    risultato=numero/divisore\n",
    "    if numero%divisore==0:\n",
    "        print('risultato di',numero,'/',divisore,'=',risultato)\n",
    "        fattori.append(divisore)\n",
    "    #aggiornamento\n",
    "    divisore+=1\n",
    "print(fattori)"
   ]
  },
  {
   "cell_type": "code",
   "execution_count": 24,
   "id": "78b441af-e3eb-4070-8ce2-19ceee18d4ab",
   "metadata": {},
   "outputs": [
    {
     "name": "stdout",
     "output_type": "stream",
     "text": [
      "E\n",
      "p\n",
      "i\n",
      "c\n",
      "o\n",
      "d\n",
      "e\n"
     ]
    }
   ],
   "source": [
    "nome_scuola = 'Epicode'\n",
    "\n",
    "for lettera in nome_scuola:\n",
    "    print(lettera)"
   ]
  },
  {
   "cell_type": "code",
   "execution_count": 26,
   "id": "d93d2c45-97fe-40e5-b845-624cba71d7c7",
   "metadata": {},
   "outputs": [
    {
     "name": "stdin",
     "output_type": "stream",
     "text": [
      "inserire base 2\n",
      "inserire potenza 10\n"
     ]
    },
    {
     "name": "stdout",
     "output_type": "stream",
     "text": [
      "[1, 2, 4, 8, 16, 32, 64, 128, 256, 512, 1024]\n"
     ]
    }
   ],
   "source": [
    "base=int(input('inserire base'))\n",
    "potenza=int(input('inserire potenza'))\n",
    "i=0\n",
    "risultato=[]\n",
    "while i<=potenza:\n",
    "    risultato.append(base**i)\n",
    "    i+=1\n",
    "print(risultato)"
   ]
  },
  {
   "cell_type": "code",
   "execution_count": 10,
   "id": "308ebce7-cb19-4ba9-bd21-29975663c951",
   "metadata": {},
   "outputs": [
    {
     "name": "stdin",
     "output_type": "stream",
     "text": [
      "inserisci n: 2\n",
      "inserisci k: 2\n"
     ]
    },
    {
     "name": "stdout",
     "output_type": "stream",
     "text": [
      "[1, 2]\n"
     ]
    }
   ],
   "source": [
    "n=int(input('inserisci n:'))\n",
    "esponenti = list( range(n) )\n",
    "k = int(input('inserisci k:'))\n",
    "risultati = []\n",
    "\n",
    "for esponente in esponenti:\n",
    "    risultato = k**esponente\n",
    "    risultati.append(risultato)\n",
    "print(risultati)"
   ]
  },
  {
   "cell_type": "code",
   "execution_count": 14,
   "id": "fa0d4711-a57d-4a17-b2b1-51d5b0a9e38f",
   "metadata": {},
   "outputs": [
    {
     "name": "stdout",
     "output_type": "stream",
     "text": [
      "Risultato: 70.0\n"
     ]
    }
   ],
   "source": [
    "guadagni = [100, 90, 70, 40, 50, 80, 90, 120, 80, 20, 50, 50]\n",
    "mesi = len(guadagni)\n",
    "\n",
    "somma = 0\n",
    "\n",
    "for guadagno in guadagni:\n",
    "    somma += guadagno\n",
    "    \n",
    "risultato = somma / mesi\n",
    "\n",
    "print('Risultato:', risultato)"
   ]
  },
  {
   "cell_type": "code",
   "execution_count": 32,
   "id": "7c8cb9cf-05ec-4424-aa96-45ebcfabcc71",
   "metadata": {},
   "outputs": [
    {
     "name": "stdout",
     "output_type": "stream",
     "text": [
      "Albergo 1\n",
      "Sedia 1\n",
      "Borgo 0\n",
      "Petalo 1\n",
      "Eremo 2\n",
      "Belvedere 4\n",
      "Semestre 3\n",
      "Esteta 2\n",
      "Sosta 0\n",
      "Orpello 1\n",
      "Abete 2\n",
      "Orologio 0\n",
      "Cesta 1\n",
      "Ermellino 2\n"
     ]
    }
   ],
   "source": [
    "parole = [\"Albergo\", \"Sedia\", \"Borgo\", \"Petalo\", \"Eremo\", \"Belvedere\", \"Semestre\", \"Esteta\", \"Sosta\", \"Orpello\", \"Abete\", \"Orologio\", \"Cesta\", \"Ermellino\"]\n",
    "\n",
    "for parola in parole:\n",
    "    contatore = 0\n",
    "\n",
    "    for lettera in parola:\n",
    "        if lettera == 'e' or lettera == 'E':\n",
    "            contatore += 1\n",
    "    print(parola,contatore)"
   ]
  },
  {
   "cell_type": "code",
   "execution_count": null,
   "id": "5069aa1e-3325-45a6-81a9-58f34f38780c",
   "metadata": {},
   "outputs": [],
   "source": []
  }
 ],
 "metadata": {
  "kernelspec": {
   "display_name": "Python 3 (ipykernel)",
   "language": "python",
   "name": "python3"
  },
  "language_info": {
   "codemirror_mode": {
    "name": "ipython",
    "version": 3
   },
   "file_extension": ".py",
   "mimetype": "text/x-python",
   "name": "python",
   "nbconvert_exporter": "python",
   "pygments_lexer": "ipython3",
   "version": "3.11.7"
  }
 },
 "nbformat": 4,
 "nbformat_minor": 5
}
